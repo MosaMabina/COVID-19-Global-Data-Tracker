import pandas as pd
import matplotlib.pyplot as plt
import seaborn as sns
import warnings
import ipywidgets as widgets
from IPython.display import display

# Suppress warnings for cleaner output
warnings.filterwarnings("ignore")

# 1. Data Collection
# Source: Our World in Data
DATA_URL = "https://covid.ourworldindata.org/data/owid-covid-data.csv"

# 2. Data Loading and Exploration
def load_and_explore_data(url):
    """
    Loads the COVID-19 dataset from a URL, explores its structure,
    and displays initial information.

    Args:
        url (str): The URL of the CSV dataset.

    Returns:
        pd.DataFrame: The loaded DataFrame, or None if an error occurs.
    """
    try:
        df = pd.read_csv(url)
        print("Data loaded successfully!")
    except Exception as e:
        print(f"Error loading data: {e}")
        return None

    print("\n--- Dataset Overview ---")
    print(f"Shape of the DataFrame: {df.shape}")
    print(f"Column names: {df.columns.tolist()}")
    print("\n--- First 5 rows ---")
    print(df.head().to_markdown(index=False, numalign="left", stralign="left"))  # Use to_markdown for better output
    print("\n--- Missing Values ---")
    print(df.isnull().sum().to_markdown(numalign="left", stralign="left")) # Use to_markdown for better output
    print("\n--- Data Types ---")
    print(df.info())
    return df

# Load the data
df = load_and_explore_data(DATA_URL)
if df is None:
    exit()  # Stop execution if data loading failed

# 3. Data Cleaning
def clean_data(df, countries_of_interest):
    """
    Cleans the COVID-19 dataset by filtering for specific countries,
    dropping rows with missing dates or critical values, converting the
    date column to datetime, and handling missing numeric values.

    Args:
        df (pd.DataFrame): The input DataFrame.
        countries_of_interest (list): List of countries to filter for.

    Returns:
        pd.DataFrame: The cleaned DataFrame, or None if an error occurs.
    """
    try:
        # Filter for countries of interest
        df = df[df['location'].isin(countries_of_interest)].copy()

        # Drop rows with missing dates
        df.dropna(subset=['date'], inplace=True)

        # Convert date column to datetime
        df['date'] = pd.to_datetime(df['date'], errors='coerce')

        # Drop rows where date conversion failed
        df.dropna(subset=['date'], inplace=True)

        # Handle missing numeric values using interpolate, then fill remaining with 0
        numeric_cols = ['total_cases', 'total_deaths', 'new_cases', 'new_deaths', 'total_vaccinations']
        for col in numeric_cols:
            df[col] = df[col].interpolate().fillna(0)
        print("Data cleaning successful!")
        return df
    except Exception as e:
        print(f"Error during data cleaning: {e}")
        return None

# Define countries of interest
countries_of_interest = ['Kenya', 'USA', 'India']

# Clean the data
df_cleaned = clean_data(df, countries_of_interest)
if df_cleaned is None:
    exit()

# 4. Exploratory Data Analysis (EDA)
def perform_eda(df):
    """
    Performs exploratory data analysis (EDA) on the cleaned COVID-19 dataset,
    generating descriptive statistics and visualizing trends.

    Args:
        df (pd.DataFrame): The cleaned DataFrame.
    """
    try:
        # Ensure the DataFrame is not empty
        if df.empty:
            print("Error: DataFrame is empty. EDA cannot be performed.")
            return

        # Basic Statistics
        print("\n--- Descriptive Statistics ---")
        print(df.describe().to_markdown(numalign="left", stralign="left"))

        # Plotting Total Cases Over Time
        plt.figure(figsize=(12, 6))
        sns.lineplot(data=df, x='date', y='total_cases', hue='location')
        plt.title('Total COVID-19 Cases Over Time')
        plt.xlabel('Date')
        plt.ylabel('Total Cases')
        plt.legend(title='Country')
        plt.grid(True)
        plt.show()

        # Plotting Total Deaths Over Time
        plt.figure(figsize=(12, 6))
        sns.lineplot(data=df, x='date', y='total_deaths', hue='location')
        plt.title('Total COVID-19 Deaths Over Time')
        plt.xlabel('Date')
        plt.ylabel('Total Deaths')
        plt.legend(title='Country')
        plt.grid(True)
        plt.show()

        # Plotting Daily New Cases
        plt.figure(figsize=(12, 6))
        sns.lineplot(data=df, x='date', y='new_cases', hue='location')
        plt.title('Daily New COVID-19 Cases')
        plt.xlabel('Date')
        plt.ylabel('New Cases')
        plt.legend(title='Country')
        plt.grid(True)
        plt.show()

        # Calculate and print Death Rate
        df['death_rate'] = df['total_deaths'] / df['total_cases']
        print("\n--- Death Rate ---")
        print(df.groupby('location')['death_rate'].max().to_markdown(numalign="left", stralign="left", header=["Country", "Max Death Rate"]))

        # Plotting Death Rate
        plt.figure(figsize=(12, 6))
        sns.lineplot(data=df, x='date', y='death_rate', hue='location')
        plt.title('COVID-19 Death Rate Over Time')
        plt.xlabel('Date')
        plt.ylabel('Death Rate (Total Deaths / Total Cases)')
        plt.legend(title='Country')
        plt.grid(True)
        plt.show()
    except Exception as e:
        print(f"Error during EDA: {e}")

# Perform EDA
perform_eda(df_cleaned)

# 5. Visualizing Vaccination Progress
def visualize_vaccination_progress(df):
    """
    Visualizes COVID-19 vaccination progress for selected countries.

    Args:
        df (pd.DataFrame): The cleaned DataFrame.
    """
    try:
        # Plotting Cumulative Vaccinations
        plt.figure(figsize=(12, 6))
        sns.lineplot(data=df, x='date', y='total_vaccinations', hue='location')
        plt.title('Cumulative COVID-19 Vaccinations Over Time')
        plt.xlabel('Date')
        plt.ylabel('Total Vaccinations')
        plt.legend(title='Country')
        plt.grid(True)
        plt.show()
    except Exception as e:
        print(f"Error visualizing vaccination progress: {e}")

# Visualize vaccination progress
visualize_vaccination_progress(df_cleaned)

# 6. (Optional) Build a Choropleth Map
def create_choropleth_map(df):
    """
    Creates an interactive choropleth map visualizing total COVID-19 cases
    for the latest available date for each country.  Uses plotly.

    Args:
        df (pd.DataFrame): The cleaned DataFrame.
    """
    try:
        import plotly.express as px # Import inside the function

        # Get the latest date
        latest_date = df['date'].max()

        # Filter the DataFrame for the latest date
        df_latest = df[df['date'] == latest_date].copy()

        # Ensure iso_code is in the dataframe
        if 'iso_code' not in df_latest.columns:
            print("Error: 'iso_code' column is missing. Choropleth map cannot be created.")
            return

        # Create the choropleth map
        fig = px.choropleth(df_latest,
                            locations="iso_code",
                            color="total_cases",
                            hover_name="location",
                            animation_frame="date",
                            title=f"Total COVID-19 Cases as of {latest_date}",
                            color_continuous_scale=px.colors.sequential.Plasma)
        fig.show()

    except ImportError:
        print("Plotly is required to generate the choropleth map. Please install it using: pip install plotly")
    except Exception as e:
        print(f"Error creating choropleth map: {e}")

# Create choropleth map
create_choropleth_map(df_cleaned)

# 7. Insights and Reporting
def generate_insights(df):
    """
    Generates and prints key insights from the cleaned COVID-19 dataset.

    Args:
        df (pd.DataFrame): The cleaned DataFrame.
    """
    try:
        # Ensure the DataFrame is not empty
        if df.empty:
            print("Error: DataFrame is empty. Insights cannot be generated.")
            return

        print("\n--- Key Insights ---")
        latest_date = df['date'].max()
        print(f"Analysis based on data up to: {latest_date}")

        # Example Insight 1: Highest total cases
        highest_cases_country = df.loc[df.groupby('location')['total_cases'].idxmax()]
        max_cases = highest_cases_country['total_cases'].max()
        country_with_max_cases = highest_cases_country.loc[highest_cases_country['total_cases'] == max_cases, 'location'].values[0]
        print(f"\n- {country_with_max_cases} had the highest total cases: {max_cases:.2f}")

        # Example Insight 2: Fastest vaccination rollout (simplified)
        # Note: A more accurate analysis would consider population.
        last_month = df[df['date'] > (latest_date - pd.Timedelta(days=30))]
        vaccination_increase = last_month.groupby('location')['total_vaccinations'].max() - last_month.groupby('location')['total_vaccinations'].min()
        fastest_vaccinating_country = vaccination_increase.idxmax()
        print(f"\n- {fastest_vaccinating_country} had the largest increase in vaccinations in the last month.")

        # Example Insight 3: Comparing death rates
        average_death_rate = df.groupby('location')['death_rate'].mean().sort_values(ascending=False)
        highest_death_rate_country = average_death_rate.index[0]
        highest_death_rate = average_death_rate[0]
        print(f"\n- {highest_death_rate_country} has the highest average death rate: {highest_death_rate:.4f}")

    except Exception as e:
        print(f"Error generating insights: {e}") 

# Generate insights
generate_insights(df_cleaned)
